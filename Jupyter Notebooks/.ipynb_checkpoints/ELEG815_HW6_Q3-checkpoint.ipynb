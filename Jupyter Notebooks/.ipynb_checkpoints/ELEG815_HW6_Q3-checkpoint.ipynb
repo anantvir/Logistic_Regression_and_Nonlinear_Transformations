{
 "cells": [
  {
   "cell_type": "code",
   "execution_count": 1,
   "metadata": {},
   "outputs": [],
   "source": [
    "import pandas as pd\n",
    "import matplotlib.pyplot as plt\n",
    "import numpy as np\n",
    "from math import exp,log\n",
    "%matplotlib inline"
   ]
  },
  {
   "cell_type": "code",
   "execution_count": 2,
   "metadata": {},
   "outputs": [],
   "source": [
    "path = 'D:\\Courses\\Fall 19\\ELEG 815 Statistical Learning\\HW6\\Dataset'\n",
    "data_original = pd.read_csv(path+'\\Weekly.csv',header=None)\n",
    "#data.iloc[1:,9]"
   ]
  },
  {
   "cell_type": "code",
   "execution_count": 77,
   "metadata": {},
   "outputs": [
    {
     "data": {
      "text/html": [
       "<div>\n",
       "<style scoped>\n",
       "    .dataframe tbody tr th:only-of-type {\n",
       "        vertical-align: middle;\n",
       "    }\n",
       "\n",
       "    .dataframe tbody tr th {\n",
       "        vertical-align: top;\n",
       "    }\n",
       "\n",
       "    .dataframe thead th {\n",
       "        text-align: right;\n",
       "    }\n",
       "</style>\n",
       "<table border=\"1\" class=\"dataframe\">\n",
       "  <thead>\n",
       "    <tr style=\"text-align: right;\">\n",
       "      <th></th>\n",
       "      <th>1</th>\n",
       "      <th>2</th>\n",
       "      <th>3</th>\n",
       "      <th>4</th>\n",
       "      <th>5</th>\n",
       "      <th>6</th>\n",
       "      <th>7</th>\n",
       "      <th>8</th>\n",
       "    </tr>\n",
       "  </thead>\n",
       "  <tbody>\n",
       "    <tr>\n",
       "      <th>1</th>\n",
       "      <td>1990</td>\n",
       "      <td>0.816</td>\n",
       "      <td>1.572</td>\n",
       "      <td>-3.936</td>\n",
       "      <td>-0.229</td>\n",
       "      <td>-3.484</td>\n",
       "      <td>0.154976</td>\n",
       "      <td>-0.27</td>\n",
       "    </tr>\n",
       "    <tr>\n",
       "      <th>2</th>\n",
       "      <td>1990</td>\n",
       "      <td>-0.27</td>\n",
       "      <td>0.816</td>\n",
       "      <td>1.572</td>\n",
       "      <td>-3.936</td>\n",
       "      <td>-0.229</td>\n",
       "      <td>0.148574</td>\n",
       "      <td>-2.576</td>\n",
       "    </tr>\n",
       "    <tr>\n",
       "      <th>3</th>\n",
       "      <td>1990</td>\n",
       "      <td>-2.576</td>\n",
       "      <td>-0.27</td>\n",
       "      <td>0.816</td>\n",
       "      <td>1.572</td>\n",
       "      <td>-3.936</td>\n",
       "      <td>0.1598375</td>\n",
       "      <td>3.514</td>\n",
       "    </tr>\n",
       "    <tr>\n",
       "      <th>4</th>\n",
       "      <td>1990</td>\n",
       "      <td>3.514</td>\n",
       "      <td>-2.576</td>\n",
       "      <td>-0.27</td>\n",
       "      <td>0.816</td>\n",
       "      <td>1.572</td>\n",
       "      <td>0.16163</td>\n",
       "      <td>0.712</td>\n",
       "    </tr>\n",
       "    <tr>\n",
       "      <th>5</th>\n",
       "      <td>1990</td>\n",
       "      <td>0.712</td>\n",
       "      <td>3.514</td>\n",
       "      <td>-2.576</td>\n",
       "      <td>-0.27</td>\n",
       "      <td>0.816</td>\n",
       "      <td>0.153728</td>\n",
       "      <td>1.178</td>\n",
       "    </tr>\n",
       "  </tbody>\n",
       "</table>\n",
       "</div>"
      ],
      "text/plain": [
       "      1       2       3       4       5       6          7       8\n",
       "1  1990   0.816   1.572  -3.936  -0.229  -3.484   0.154976   -0.27\n",
       "2  1990   -0.27   0.816   1.572  -3.936  -0.229   0.148574  -2.576\n",
       "3  1990  -2.576   -0.27   0.816   1.572  -3.936  0.1598375   3.514\n",
       "4  1990   3.514  -2.576   -0.27   0.816   1.572    0.16163   0.712\n",
       "5  1990   0.712   3.514  -2.576   -0.27   0.816   0.153728   1.178"
      ]
     },
     "execution_count": 77,
     "metadata": {},
     "output_type": "execute_result"
    }
   ],
   "source": [
    "labels = data_original.iloc[1:,9]\n",
    "labels = labels.astype('category')\n",
    "y_n = [0]*(len(labels)+1)\n",
    "for i in range(len(labels)):\n",
    "    #print(labels.iloc[i])\n",
    "    if labels.iloc[i] == 'Down':\n",
    "        y_n[i+1] = -1\n",
    "    else:\n",
    "        y_n[i+1] = 1\n",
    "data = data_original.drop(0,0)\n",
    "data = data.iloc[:,1:9]\n",
    "data.head()"
   ]
  },
  {
   "cell_type": "markdown",
   "metadata": {},
   "source": [
    "# (a) Correlation Matrix, Conclusions and Patterns"
   ]
  },
  {
   "cell_type": "code",
   "execution_count": 4,
   "metadata": {},
   "outputs": [
    {
     "data": {
      "text/html": [
       "<div>\n",
       "<style scoped>\n",
       "    .dataframe tbody tr th:only-of-type {\n",
       "        vertical-align: middle;\n",
       "    }\n",
       "\n",
       "    .dataframe tbody tr th {\n",
       "        vertical-align: top;\n",
       "    }\n",
       "\n",
       "    .dataframe thead th {\n",
       "        text-align: right;\n",
       "    }\n",
       "</style>\n",
       "<table border=\"1\" class=\"dataframe\">\n",
       "  <thead>\n",
       "    <tr style=\"text-align: right;\">\n",
       "      <th></th>\n",
       "      <th>1</th>\n",
       "      <th>2</th>\n",
       "      <th>3</th>\n",
       "      <th>4</th>\n",
       "      <th>5</th>\n",
       "      <th>6</th>\n",
       "      <th>7</th>\n",
       "      <th>8</th>\n",
       "    </tr>\n",
       "  </thead>\n",
       "  <tbody>\n",
       "    <tr>\n",
       "      <th>1</th>\n",
       "      <td>1.000000</td>\n",
       "      <td>-0.032289</td>\n",
       "      <td>-0.033390</td>\n",
       "      <td>-0.030006</td>\n",
       "      <td>-0.031128</td>\n",
       "      <td>-0.030519</td>\n",
       "      <td>0.841942</td>\n",
       "      <td>-0.032460</td>\n",
       "    </tr>\n",
       "    <tr>\n",
       "      <th>2</th>\n",
       "      <td>-0.032289</td>\n",
       "      <td>1.000000</td>\n",
       "      <td>-0.074853</td>\n",
       "      <td>0.058636</td>\n",
       "      <td>-0.071274</td>\n",
       "      <td>-0.008183</td>\n",
       "      <td>-0.064951</td>\n",
       "      <td>-0.075032</td>\n",
       "    </tr>\n",
       "    <tr>\n",
       "      <th>3</th>\n",
       "      <td>-0.033390</td>\n",
       "      <td>-0.074853</td>\n",
       "      <td>1.000000</td>\n",
       "      <td>-0.075721</td>\n",
       "      <td>0.058382</td>\n",
       "      <td>-0.072499</td>\n",
       "      <td>-0.085513</td>\n",
       "      <td>0.059167</td>\n",
       "    </tr>\n",
       "    <tr>\n",
       "      <th>4</th>\n",
       "      <td>-0.030006</td>\n",
       "      <td>0.058636</td>\n",
       "      <td>-0.075721</td>\n",
       "      <td>1.000000</td>\n",
       "      <td>-0.075396</td>\n",
       "      <td>0.060657</td>\n",
       "      <td>-0.069288</td>\n",
       "      <td>-0.071244</td>\n",
       "    </tr>\n",
       "    <tr>\n",
       "      <th>5</th>\n",
       "      <td>-0.031128</td>\n",
       "      <td>-0.071274</td>\n",
       "      <td>0.058382</td>\n",
       "      <td>-0.075396</td>\n",
       "      <td>1.000000</td>\n",
       "      <td>-0.075675</td>\n",
       "      <td>-0.061075</td>\n",
       "      <td>-0.007826</td>\n",
       "    </tr>\n",
       "    <tr>\n",
       "      <th>6</th>\n",
       "      <td>-0.030519</td>\n",
       "      <td>-0.008183</td>\n",
       "      <td>-0.072499</td>\n",
       "      <td>0.060657</td>\n",
       "      <td>-0.075675</td>\n",
       "      <td>1.000000</td>\n",
       "      <td>-0.058517</td>\n",
       "      <td>0.011013</td>\n",
       "    </tr>\n",
       "    <tr>\n",
       "      <th>7</th>\n",
       "      <td>0.841942</td>\n",
       "      <td>-0.064951</td>\n",
       "      <td>-0.085513</td>\n",
       "      <td>-0.069288</td>\n",
       "      <td>-0.061075</td>\n",
       "      <td>-0.058517</td>\n",
       "      <td>1.000000</td>\n",
       "      <td>-0.033078</td>\n",
       "    </tr>\n",
       "    <tr>\n",
       "      <th>8</th>\n",
       "      <td>-0.032460</td>\n",
       "      <td>-0.075032</td>\n",
       "      <td>0.059167</td>\n",
       "      <td>-0.071244</td>\n",
       "      <td>-0.007826</td>\n",
       "      <td>0.011013</td>\n",
       "      <td>-0.033078</td>\n",
       "      <td>1.000000</td>\n",
       "    </tr>\n",
       "  </tbody>\n",
       "</table>\n",
       "</div>"
      ],
      "text/plain": [
       "          1         2         3         4         5         6         7  \\\n",
       "1  1.000000 -0.032289 -0.033390 -0.030006 -0.031128 -0.030519  0.841942   \n",
       "2 -0.032289  1.000000 -0.074853  0.058636 -0.071274 -0.008183 -0.064951   \n",
       "3 -0.033390 -0.074853  1.000000 -0.075721  0.058382 -0.072499 -0.085513   \n",
       "4 -0.030006  0.058636 -0.075721  1.000000 -0.075396  0.060657 -0.069288   \n",
       "5 -0.031128 -0.071274  0.058382 -0.075396  1.000000 -0.075675 -0.061075   \n",
       "6 -0.030519 -0.008183 -0.072499  0.060657 -0.075675  1.000000 -0.058517   \n",
       "7  0.841942 -0.064951 -0.085513 -0.069288 -0.061075 -0.058517  1.000000   \n",
       "8 -0.032460 -0.075032  0.059167 -0.071244 -0.007826  0.011013 -0.033078   \n",
       "\n",
       "          8  \n",
       "1 -0.032460  \n",
       "2 -0.075032  \n",
       "3  0.059167  \n",
       "4 -0.071244  \n",
       "5 -0.007826  \n",
       "6  0.011013  \n",
       "7 -0.033078  \n",
       "8  1.000000  "
      ]
     },
     "execution_count": 4,
     "metadata": {},
     "output_type": "execute_result"
    }
   ],
   "source": [
    "data = data.astype('float32')\n",
    "corr = data.corr()\n",
    "corr"
   ]
  },
  {
   "cell_type": "code",
   "execution_count": 5,
   "metadata": {},
   "outputs": [
    {
     "data": {
      "text/plain": [
       "Text(0.5,1,'Volume vs Time')"
      ]
     },
     "execution_count": 5,
     "metadata": {},
     "output_type": "execute_result"
    },
    {
     "data": {
      "image/png": "[encoded data removed]",
      "text/plain": [
       "<Figure size 432x288 with 1 Axes>"
      ]
     },
     "metadata": {},
     "output_type": "display_data"
    }
   ],
   "source": [
    "plt.scatter(data.iloc[:,0],data.iloc[:,6],marker='.')\n",
    "plt.xlabel('Time')\n",
    "plt.ylabel('Volume')\n",
    "plt.title('Volume vs Time')"
   ]
  },
  {
   "cell_type": "markdown",
   "metadata": {},
   "source": [
    "Volume is the number of shares traded on the previous week in Billions of USD. We observe that as volumne increases significantly in later years mostly after 2005 and rises to a sharp peak and then drops a little bit. There is no recurring pattern which can be observed in the given data."
   ]
  },
  {
   "cell_type": "markdown",
   "metadata": {},
   "source": [
    "# (b) Fit Logisitic Regression Model"
   ]
  },
  {
   "cell_type": "code",
   "execution_count": 6,
   "metadata": {},
   "outputs": [
    {
     "data": {
      "text/html": [
       "<div>\n",
       "<style scoped>\n",
       "    .dataframe tbody tr th:only-of-type {\n",
       "        vertical-align: middle;\n",
       "    }\n",
       "\n",
       "    .dataframe tbody tr th {\n",
       "        vertical-align: top;\n",
       "    }\n",
       "\n",
       "    .dataframe thead th {\n",
       "        text-align: right;\n",
       "    }\n",
       "</style>\n",
       "<table border=\"1\" class=\"dataframe\">\n",
       "  <thead>\n",
       "    <tr style=\"text-align: right;\">\n",
       "      <th></th>\n",
       "      <th>Constant</th>\n",
       "      <th>2</th>\n",
       "      <th>3</th>\n",
       "      <th>4</th>\n",
       "      <th>5</th>\n",
       "      <th>6</th>\n",
       "      <th>7</th>\n",
       "    </tr>\n",
       "  </thead>\n",
       "  <tbody>\n",
       "    <tr>\n",
       "      <th>1</th>\n",
       "      <td>1</td>\n",
       "      <td>0.816</td>\n",
       "      <td>1.572</td>\n",
       "      <td>-3.936</td>\n",
       "      <td>-0.229</td>\n",
       "      <td>-3.484</td>\n",
       "      <td>0.154976</td>\n",
       "    </tr>\n",
       "    <tr>\n",
       "      <th>2</th>\n",
       "      <td>1</td>\n",
       "      <td>-0.270</td>\n",
       "      <td>0.816</td>\n",
       "      <td>1.572</td>\n",
       "      <td>-3.936</td>\n",
       "      <td>-0.229</td>\n",
       "      <td>0.148574</td>\n",
       "    </tr>\n",
       "    <tr>\n",
       "      <th>3</th>\n",
       "      <td>1</td>\n",
       "      <td>-2.576</td>\n",
       "      <td>-0.270</td>\n",
       "      <td>0.816</td>\n",
       "      <td>1.572</td>\n",
       "      <td>-3.936</td>\n",
       "      <td>0.159837</td>\n",
       "    </tr>\n",
       "    <tr>\n",
       "      <th>4</th>\n",
       "      <td>1</td>\n",
       "      <td>3.514</td>\n",
       "      <td>-2.576</td>\n",
       "      <td>-0.270</td>\n",
       "      <td>0.816</td>\n",
       "      <td>1.572</td>\n",
       "      <td>0.161630</td>\n",
       "    </tr>\n",
       "    <tr>\n",
       "      <th>5</th>\n",
       "      <td>1</td>\n",
       "      <td>0.712</td>\n",
       "      <td>3.514</td>\n",
       "      <td>-2.576</td>\n",
       "      <td>-0.270</td>\n",
       "      <td>0.816</td>\n",
       "      <td>0.153728</td>\n",
       "    </tr>\n",
       "  </tbody>\n",
       "</table>\n",
       "</div>"
      ],
      "text/plain": [
       "   Constant      2      3      4      5      6         7\n",
       "1         1  0.816  1.572 -3.936 -0.229 -3.484  0.154976\n",
       "2         1 -0.270  0.816  1.572 -3.936 -0.229  0.148574\n",
       "3         1 -2.576 -0.270  0.816  1.572 -3.936  0.159837\n",
       "4         1  3.514 -2.576 -0.270  0.816  1.572  0.161630\n",
       "5         1  0.712  3.514 -2.576 -0.270  0.816  0.153728"
      ]
     },
     "execution_count": 6,
     "metadata": {},
     "output_type": "execute_result"
    }
   ],
   "source": [
    "\"\"\"-------------------------- Data Preprocessing -------------------------------\"\"\"\n",
    "data_log_regression = data.iloc[:,1:7]\n",
    "data_X0_column = pd.DataFrame(columns=['Constant'])\n",
    "data_X0_column['Constant'] = [1 for i in range(len(data_log_regression)+1)]\n",
    "data_X0_column = data_X0_column.drop([0],axis=0)\n",
    "data_log_regression = pd.concat([data_X0_column,data_log_regression],axis=1)\n",
    "data_log_regression.head()"
   ]
  },
  {
   "cell_type": "code",
   "execution_count": 12,
   "metadata": {},
   "outputs": [
    {
     "name": "stdout",
     "output_type": "stream",
     "text": [
      "Initial Weights : [0.51639863 0.57066759 0.02847423 0.17152166 0.68527698 0.83389686\n",
      " 0.30696622]\n",
      "Generating Logistic Regression Model ...\n",
      "Final Weights : [ 0.28398615 -0.0418899   0.05777502 -0.01662507 -0.02838606 -0.01500763\n",
      " -0.02831387]\n"
     ]
    }
   ],
   "source": [
    "def Logistic_Regression(data_log_regression,y_n,learning_rate,iterations):\n",
    "    np.random.seed(101)\n",
    "    W = np.random.random((data_log_regression.shape[1],))\n",
    "    N = len(data_log_regression)\n",
    "    lr = learning_rate\n",
    "    print('Initial Weights :',W)\n",
    "    E_in_w = []\n",
    "    print('Generating Logistic Regression Model ...')\n",
    "    for t in range(iterations):\n",
    "        total_gradient = 0\n",
    "        total_error = 0\n",
    "        for index,x_n in data_log_regression.iterrows():\n",
    "            \"\"\"------------------ Gradient -----------------------\"\"\"\n",
    "            total_gradient += (y_n[index]*x_n)/(1 + np.exp(y_n[index]*np.dot(W.T,x_n)))\n",
    "            \"\"\"------------- Cross Entropy Error -----------------\"\"\"\n",
    "            total_error += np.log(1 + np.exp(-y_n[index]*np.dot(W.T,x_n)))\n",
    "        gradient = -(1/N)*total_gradient         # Divide by total examples\n",
    "        v_t = - gradient\n",
    "        E_in_w.append(total_error/N)\n",
    "        print(total_error/N)\n",
    "        W += lr*v_t\n",
    "    return W,E_in_w\n",
    "W, E_in_w = Logistic_Regression(data_log_regression,y_n,0.01,1000)\n",
    "print('Final Weights :',np.array(W))"
   ]
  },
  {
   "cell_type": "code",
   "execution_count": 14,
   "metadata": {},
   "outputs": [
    {
     "name": "stdout",
     "output_type": "stream",
     "text": [
      "[ 0.28398615 -0.0418899   0.05777502 -0.01662507 -0.02838606 -0.01500763\n",
      " -0.02831387]\n"
     ]
    },
    {
     "data": {
      "image/png": "[encoded data removed]",
      "text/plain": [
       "<Figure size 432x288 with 1 Axes>"
      ]
     },
     "metadata": {},
     "output_type": "display_data"
    }
   ],
   "source": [
    "plt.plot(E_in_w)\n",
    "plt.xlabel('Iterations')\n",
    "plt.ylabel('Cross Entropy Loss')\n",
    "plt.title('Variation in Error Function with Iterations')\n",
    "print(np.array(W))"
   ]
  },
  {
   "cell_type": "markdown",
   "metadata": {},
   "source": [
    "# (c) probability output g(x) for the \f",
    "rst 10 data points of training set"
   ]
  },
  {
   "cell_type": "code",
   "execution_count": 15,
   "metadata": {},
   "outputs": [
    {
     "name": "stdout",
     "output_type": "stream",
     "text": [
      "[0.6131236815929944, 0.6052201030992954, 0.5920993371607856, 0.485282743445567, 0.6203592901997176, 0.572034520119827, 0.5823179733494286, 0.5186502031631058, 0.5752984051645059, 0.5592043070113407]\n"
     ]
    }
   ],
   "source": [
    "def Prob_Output_10_Points(W,data):\n",
    "    data = data.iloc[:10]\n",
    "    Err = []\n",
    "    for index,x_n in data.iterrows():\n",
    "        signal = np.dot(W.T,x_n)\n",
    "        sigmoid = 1/(1 + np.exp(-signal))\n",
    "        Err.append(sigmoid)\n",
    "    return Err\n",
    "Err = Prob_Output_10_Points(W,data_log_regression)\n",
    "print(Err)"
   ]
  },
  {
   "cell_type": "markdown",
   "metadata": {},
   "source": [
    "Probability for first 10 data points is \n",
    "\n",
    "[0.6131236815929944, 0.6052201030992954, 0.5920993371607856, 0.485282743445567, 0.6203592901997176, 0.572034520119827, 0.5823179733494286, 0.5186502031631058, 0.5752984051645059, 0.5592043070113407]"
   ]
  },
  {
   "cell_type": "markdown",
   "metadata": {},
   "source": [
    "# (D) Fraction of correct predictions : 0.5105601469237833"
   ]
  },
  {
   "cell_type": "code",
   "execution_count": 16,
   "metadata": {},
   "outputs": [
    {
     "name": "stdout",
     "output_type": "stream",
     "text": [
      "Fraction of correct predictions : 0.5105601469237833\n"
     ]
    }
   ],
   "source": [
    "def Fraction_Correct_Classification(W,data,labels):\n",
    "    down = []\n",
    "    up = []\n",
    "    for index,x_n in data.iterrows():\n",
    "        signal = np.dot(W.T,x_n)\n",
    "        sigmoid = 1/(1 + np.exp(-signal))\n",
    "        if sigmoid >= 0.5 and labels[index] == 1:\n",
    "                up.append(sigmoid)\n",
    "    return len(up)/len(data)\n",
    "print('Fraction of correct predictions :',Fraction_Correct_Classification(W,data_log_regression,y_n))"
   ]
  },
  {
   "cell_type": "markdown",
   "metadata": {},
   "source": [
    "# (e)  \n",
    "#Fraction of Correct Predictions = 0.5288461538461539\n",
    "#Weight Vector = [0.241865 -0.059473]"
   ]
  },
  {
   "cell_type": "code",
   "execution_count": 81,
   "metadata": {},
   "outputs": [
    {
     "name": "stdout",
     "output_type": "stream",
     "text": [
      "(985, 2)\n",
      "(104, 2)\n"
     ]
    }
   ],
   "source": [
    "def Filter_Data_By_Year_Range(data,start,end):\n",
    "    labels_train = pd.DataFrame()\n",
    "    labels_test = pd.DataFrame()\n",
    "    data = data.reset_index(drop=True)\n",
    "    col1 = data.iloc[:,1].astype(float)\n",
    "    col2 = data.iloc[:,3].astype(float)\n",
    "    df = pd.concat([col1,col2],axis=1,ignore_index=True)\n",
    "    df = df.reset_index(drop=True)\n",
    "    year_list = [i for i in range(start,end+1)]\n",
    "    train_df = pd.DataFrame()\n",
    "    test_df = pd.DataFrame()\n",
    "    for index,x_n in df.iterrows():\n",
    "        if int(x_n[0]) in year_list:\n",
    "            train_df = train_df.append(pd.DataFrame([x_n[1]]),ignore_index=True)\n",
    "            if str(data.iloc[index][9]) == 'Down':\n",
    "                labels_train = labels_train.append(pd.DataFrame([-1]),ignore_index=True)\n",
    "            else:\n",
    "                labels_train = labels_train.append(pd.DataFrame([1]),ignore_index=True)\n",
    "        else:\n",
    "            test_df = test_df.append(pd.DataFrame([x_n[1]]),ignore_index=True)\n",
    "            if str(data.iloc[index][9]) == 'Down':\n",
    "                labels_test = labels_test.append(pd.DataFrame([-1]),ignore_index=True)\n",
    "            else:\n",
    "                labels_test = labels_test.append(pd.DataFrame([1]),ignore_index=True)\n",
    "    col_x0_train = pd.DataFrame()\n",
    "    col_x0_test = pd.DataFrame()\n",
    "    col_x0_train['Constant'] = [1 for i in range(len(train_df))]\n",
    "    col_x0_test['Constant'] = [1 for i in range(len(test_df))]\n",
    "    final_train_df = pd.concat([col_x0_train,train_df],axis=1)\n",
    "    final_test_df = pd.concat([col_x0_test,test_df],axis=1)\n",
    "    return final_train_df,final_test_df,labels_train,labels_test\n",
    "data_to_filter = data_original.drop(0,0)    \n",
    "data_2_d_train,data_2_d_test,labels_train_2d,labels_test_2d = Filter_Data_By_Year_Range(data_to_filter,1990,2008)\n",
    "print(data_2_d_train.shape)\n",
    "print(data_2_d_test.shape)"
   ]
  },
  {
   "cell_type": "code",
   "execution_count": 53,
   "metadata": {},
   "outputs": [
    {
     "name": "stdout",
     "output_type": "stream",
     "text": [
      "Initial Weights : [0.51639863 0.57066759]\n",
      "Generating Logistic Regression Model ...\n",
      "Final Weights : Constant    0.241865\n",
      "0          -0.059473\n",
      "Name: 0, dtype: float64\n"
     ]
    }
   ],
   "source": [
    "W_2_d, E_in_w_2_d = Logistic_Regression(data_2_d,y_n,0.01,1000)\n",
    "print('Final Weights :',W_2_d)"
   ]
  },
  {
   "cell_type": "code",
   "execution_count": 75,
   "metadata": {},
   "outputs": [
    {
     "data": {
      "text/plain": [
       "Text(0.5,1,'Variation in Error Function with Iterations')"
      ]
     },
     "execution_count": 75,
     "metadata": {},
     "output_type": "execute_result"
    },
    {
     "data": {
      "image/png": "[encoded data removed]",
      "text/plain": [
       "<Figure size 432x288 with 1 Axes>"
      ]
     },
     "metadata": {},
     "output_type": "display_data"
    }
   ],
   "source": [
    "plt.plot(E_in_w_2_d)\n",
    "plt.xlabel('Iterations')\n",
    "plt.ylabel('Cross Entropy Loss')\n",
    "plt.title('Variation in Error Function with Iterations')"
   ]
  },
  {
   "cell_type": "code",
   "execution_count": 76,
   "metadata": {},
   "outputs": [
    {
     "name": "stdout",
     "output_type": "stream",
     "text": [
      "Fraction of correct predictions using Lag2 as predictor : 0.5288461538461539\n"
     ]
    }
   ],
   "source": [
    "def Fraction_Correct_Classification_2d(W,data,labels):\n",
    "    up = []\n",
    "    for index,x_n in data.iterrows():\n",
    "        signal = np.dot(W.T,x_n)\n",
    "        sigmoid = 1/(1 + np.exp(-signal))\n",
    "        if sigmoid >= 0.5 and int(labels.iloc[index]) == 1:\n",
    "                up.append(sigmoid)\n",
    "    return len(up)/len(data)\n",
    "print('Fraction of correct predictions using Lag2 as predictor :',Fraction_Correct_Classification_2d(W_2_d,data_2_d_test,labels_test_2d))"
   ]
  },
  {
   "cell_type": "code",
   "execution_count": null,
   "metadata": {},
   "outputs": [],
   "source": []
  }
 ],
 "metadata": {
  "kernelspec": {
   "display_name": "Python 3",
   "language": "python",
   "name": "python3"
  },
  "language_info": {
   "codemirror_mode": {
    "name": "ipython",
    "version": 3
   },
   "file_extension": ".py",
   "mimetype": "text/x-python",
   "name": "python",
   "nbconvert_exporter": "python",
   "pygments_lexer": "ipython3",
   "version": "3.6.5"
  }
 },
 "nbformat": 4,
 "nbformat_minor": 2
}
