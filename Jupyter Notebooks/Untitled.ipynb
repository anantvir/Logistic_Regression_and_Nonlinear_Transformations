{
 "cells": [
  {
   "cell_type": "code",
   "execution_count": 1,
   "metadata": {},
   "outputs": [],
   "source": [
    "import pandas as pd\n",
    "import matplotlib.pyplot as plt\n",
    "import numpy as np\n",
    "from math import exp,log\n",
    "%matplotlib inline"
   ]
  },
  {
   "cell_type": "code",
   "execution_count": 2,
   "metadata": {},
   "outputs": [],
   "source": [
    "path = 'D:\\Courses\\Fall 19\\ELEG 815 Statistical Learning\\HW6\\Dataset'\n",
    "data = np.genfromtxt(path+'\\Weekly.csv',delimiter=',')"
   ]
  },
  {
   "cell_type": "code",
   "execution_count": 3,
   "metadata": {},
   "outputs": [
    {
     "data": {
      "text/plain": [
       "array([[          nan,           nan,           nan, ...,           nan,\n",
       "                  nan,           nan],\n",
       "       [          nan,  1.990000e+03,  8.160000e-01, ...,  1.549760e-01,\n",
       "        -2.700000e-01,           nan],\n",
       "       [          nan,  1.990000e+03, -2.700000e-01, ...,  1.485740e-01,\n",
       "        -2.576000e+00,           nan],\n",
       "       ...,\n",
       "       [          nan,  2.010000e+03,  1.281000e+00, ...,  4.835082e+00,\n",
       "         2.830000e-01,           nan],\n",
       "       [          nan,  2.010000e+03,  2.830000e-01, ...,  4.454044e+00,\n",
       "         1.034000e+00,           nan],\n",
       "       [          nan,  2.010000e+03,  1.034000e+00, ...,  2.707105e+00,\n",
       "         6.900000e-02,           nan]])"
      ]
     },
     "execution_count": 3,
     "metadata": {},
     "output_type": "execute_result"
    }
   ],
   "source": [
    "data"
   ]
  },
  {
   "cell_type": "code",
   "execution_count": null,
   "metadata": {},
   "outputs": [],
   "source": []
  }
 ],
 "metadata": {
  "kernelspec": {
   "display_name": "Python 3",
   "language": "python",
   "name": "python3"
  },
  "language_info": {
   "codemirror_mode": {
    "name": "ipython",
    "version": 3
   },
   "file_extension": ".py",
   "mimetype": "text/x-python",
   "name": "python",
   "nbconvert_exporter": "python",
   "pygments_lexer": "ipython3",
   "version": "3.6.5"
  }
 },
 "nbformat": 4,
 "nbformat_minor": 2
}
